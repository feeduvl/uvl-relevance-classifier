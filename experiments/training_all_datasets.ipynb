{
 "cells": [
  {
   "cell_type": "code",
   "execution_count": null,
   "metadata": {},
   "outputs": [],
   "source": [
    "%load_ext autoreload\n",
    "%autoreload 2"
   ]
  },
  {
   "cell_type": "code",
   "execution_count": null,
   "metadata": {},
   "outputs": [],
   "source": [
    "from main.tooling.Logger import logging_setup\n",
    "from copy import deepcopy\n",
    "\n",
    "import os\n",
    "print(os.getcwd())  # Prints the current working directory\n",
    "os.chdir('..') \n",
    "print(os.getcwd())\n",
    "\n",
    "logger = logging_setup(\"setupEvaluation\")"
   ]
  },
  {
   "cell_type": "code",
   "execution_count": null,
   "metadata": {},
   "outputs": [],
   "source": [
    "from main.structure.Factories.ConfigurationFactory import ConfigurationFactory\n",
    "\n",
    "configurationFactory = ConfigurationFactory()\n",
    "# TrainingAllDatasets / TrainingOnlyP2GoldenDataset / TrainingOnlyKomootDataset / TrainingKomootTestP2GoldenDatasets / TrainingP2GoldenTestKomootDatasets\n",
    "conf = configurationFactory.__create__(\"TrainingAllDatasets\")\n",
    "logger.info(\"Configuration %s\", conf)"
   ]
  },
  {
   "cell_type": "markdown",
   "metadata": {},
   "source": [
    "## Setup Experiment"
   ]
  },
  {
   "cell_type": "code",
   "execution_count": null,
   "metadata": {},
   "outputs": [],
   "source": [
    "import mlflow\n",
    "conf.project.experiment_name = 'RC_TrainingAllDatasets'\n",
    "\n",
    "if mlflow.get_experiment_by_name(conf.project.experiment_name) is None:\n",
    "        mlflow.create_experiment(conf.project.experiment_name)"
   ]
  },
  {
   "cell_type": "markdown",
   "metadata": {},
   "source": [
    "# Hyperparameter Analysis"
   ]
  },
  {
   "cell_type": "markdown",
   "metadata": {},
   "source": [
    "## First Run"
   ]
  },
  {
   "cell_type": "code",
   "execution_count": null,
   "metadata": {},
   "outputs": [],
   "source": [
    "from main.behavior.RelevanceClassifier import RelevanceClassifier\n",
    "from main.tooling.MLflowHandler import config_mlflow\n",
    "\n",
    "defaultConf = deepcopy(conf)\n",
    "defaultConf.project.run_name = 'default'\n",
    "\n",
    "with config_mlflow(defaultConf) as current_run:\n",
    "    logger.info(\"Starting TrainingPipeline\")\n",
    "    relevanceClassifier = RelevanceClassifier()\n",
    "    relevanceClassifier.startTrainingPipeline(defaultConf)"
   ]
  },
  {
   "cell_type": "markdown",
   "metadata": {},
   "source": [
    "## Increasing Batchsize"
   ]
  },
  {
   "cell_type": "code",
   "execution_count": null,
   "metadata": {},
   "outputs": [],
   "source": [
    "increasedBatchsizeConf = deepcopy(conf)\n",
    "increasedBatchsizeConf.project.run_name = 'batchsize_32'\n",
    "increasedBatchsizeConf.modelArgs.per_device_eval_batch_size = 32\n",
    "increasedBatchsizeConf.modelArgs.per_device_train_batch_size = 32\n",
    "\n",
    "\n",
    "with config_mlflow(increasedBatchsizeConf) as current_run:\n",
    "    logger.info(\"Starting TrainingPipeline\")\n",
    "    relevanceClassifier = RelevanceClassifier()\n",
    "    relevanceClassifier.startTrainingPipeline(increasedBatchsizeConf)"
   ]
  },
  {
   "cell_type": "markdown",
   "metadata": {},
   "source": [
    "## Increasing Epoch Number"
   ]
  },
  {
   "cell_type": "code",
   "execution_count": null,
   "metadata": {},
   "outputs": [],
   "source": [
    "increasedEpochNumberConf1 = deepcopy(conf)\n",
    "increasedEpochNumberConf1.project.run_name = 'epochs_20'\n",
    "increasedEpochNumberConf1.modelArgs.num_train_epochs = 20\n",
    "\n",
    "\n",
    "with config_mlflow(increasedEpochNumberConf1) as current_run:\n",
    "    logger.info(\"Starting TrainingPipeline\")\n",
    "    relevanceClassifier = RelevanceClassifier()\n",
    "    relevanceClassifier.startTrainingPipeline(increasedEpochNumberConf1)"
   ]
  },
  {
   "cell_type": "code",
   "execution_count": null,
   "metadata": {},
   "outputs": [],
   "source": [
    "increasedEpochNumberConf2 = deepcopy(conf)\n",
    "increasedEpochNumberConf2.project.run_name = 'epochs_25'\n",
    "increasedEpochNumberConf2.modelArgs.num_train_epochs = 25\n",
    "\n",
    "\n",
    "with config_mlflow(increasedEpochNumberConf2) as current_run:\n",
    "    logger.info(\"Starting TrainingPipeline\")\n",
    "    relevanceClassifier = RelevanceClassifier()\n",
    "    relevanceClassifier.startTrainingPipeline(increasedEpochNumberConf2)"
   ]
  },
  {
   "cell_type": "markdown",
   "metadata": {},
   "source": [
    "## Decreasing Epoch Number"
   ]
  },
  {
   "cell_type": "code",
   "execution_count": null,
   "metadata": {},
   "outputs": [],
   "source": [
    "decreasedEpochNumberConf1 = deepcopy(conf)\n",
    "decreasedEpochNumberConf1.project.run_name = 'epochs_10'\n",
    "decreasedEpochNumberConf1.modelArgs.num_train_epochs = 10\n",
    "\n",
    "\n",
    "with config_mlflow(decreasedEpochNumberConf1) as current_run:\n",
    "    logger.info(\"Starting TrainingPipeline\")\n",
    "    relevanceClassifier = RelevanceClassifier()\n",
    "    relevanceClassifier.startTrainingPipeline(decreasedEpochNumberConf1)"
   ]
  },
  {
   "cell_type": "code",
   "execution_count": null,
   "metadata": {},
   "outputs": [],
   "source": [
    "decreasedEpochNumberConf2 = deepcopy(conf)\n",
    "decreasedEpochNumberConf2.project.run_name = 'epochs_5'\n",
    "decreasedEpochNumberConf2.modelArgs.num_train_epochs = 5\n",
    "\n",
    "\n",
    "with config_mlflow(decreasedEpochNumberConf2) as current_run:\n",
    "    logger.info(\"Starting TrainingPipeline\")\n",
    "    relevanceClassifier = RelevanceClassifier()\n",
    "    relevanceClassifier.startTrainingPipeline(decreasedEpochNumberConf2)"
   ]
  },
  {
   "cell_type": "code",
   "execution_count": null,
   "metadata": {},
   "outputs": [],
   "source": [
    "decreasedEpochNumberConf3 = deepcopy(conf)\n",
    "decreasedEpochNumberConf3.project.run_name = 'epochs_3'\n",
    "decreasedEpochNumberConf3.modelArgs.num_train_epochs = 3\n",
    "\n",
    "\n",
    "with config_mlflow(decreasedEpochNumberConf3) as current_run:\n",
    "    logger.info(\"Starting TrainingPipeline\")\n",
    "    relevanceClassifier = RelevanceClassifier()\n",
    "    relevanceClassifier.startTrainingPipeline(decreasedEpochNumberConf3)"
   ]
  },
  {
   "cell_type": "markdown",
   "metadata": {},
   "source": [
    "## Increasing Fold Number"
   ]
  },
  {
   "cell_type": "code",
   "execution_count": null,
   "metadata": {},
   "outputs": [],
   "source": [
    "from main.behavior.RelevanceClassifier import RelevanceClassifier\n",
    "from main.tooling.MLflowHandler import config_mlflow\n",
    "\n",
    "increasedFoldNumberConf = deepcopy(conf)\n",
    "increasedFoldNumberConf.project.run_name = 'Fold_10'\n",
    "increasedFoldNumberConf.fold_number = 10\n",
    "\n",
    "\n",
    "with config_mlflow(increasedFoldNumberConf) as current_run:\n",
    "    logger.info(\"Starting TrainingPipeline\")\n",
    "    relevanceClassifier = RelevanceClassifier()\n",
    "    relevanceClassifier.startTrainingPipeline(increasedFoldNumberConf)"
   ]
  },
  {
   "cell_type": "markdown",
   "metadata": {},
   "source": [
    "## Decreasing Learning Rate"
   ]
  },
  {
   "cell_type": "code",
   "execution_count": null,
   "metadata": {},
   "outputs": [],
   "source": [
    "decreasedLRConf = deepcopy(conf)\n",
    "decreasedLRConf.project.run_name = 'LR_2e-4'\n",
    "decreasedLRConf.modelArgs.learning_rate = 2e-4\n",
    "\n",
    "\n",
    "with config_mlflow(decreasedLRConf) as current_run:\n",
    "    logger.info(\"Starting TrainingPipeline\")\n",
    "    relevanceClassifier = RelevanceClassifier()\n",
    "    relevanceClassifier.startTrainingPipeline(decreasedLRConf)"
   ]
  },
  {
   "cell_type": "markdown",
   "metadata": {},
   "source": [
    "## Increasing Weight Decay"
   ]
  },
  {
   "cell_type": "code",
   "execution_count": null,
   "metadata": {},
   "outputs": [],
   "source": [
    "increaseWeightDecayConf = deepcopy(conf)\n",
    "increaseWeightDecayConf.project.run_name = 'WeightDecay_0.999'\n",
    "increaseWeightDecayConf.modelArgs.weight_decay = 0.999\n",
    "\n",
    "\n",
    "with config_mlflow(increaseWeightDecayConf) as current_run:\n",
    "    logger.info(\"Starting TrainingPipeline\")\n",
    "    relevanceClassifier = RelevanceClassifier()\n",
    "    relevanceClassifier.startTrainingPipeline(increaseWeightDecayConf)"
   ]
  },
  {
   "cell_type": "markdown",
   "metadata": {},
   "source": [
    "# Combined Hyperparameter Analysis"
   ]
  },
  {
   "cell_type": "markdown",
   "metadata": {},
   "source": [
    "## (Depending which standard hyperparameter change achieved better results than the default configuration -> these are combined)"
   ]
  }
 ],
 "metadata": {
  "kernelspec": {
   "display_name": "mlprod1",
   "language": "python",
   "name": "python3"
  },
  "language_info": {
   "codemirror_mode": {
    "name": "ipython",
    "version": 3
   },
   "file_extension": ".py",
   "mimetype": "text/x-python",
   "name": "python",
   "nbconvert_exporter": "python",
   "pygments_lexer": "ipython3",
   "version": "3.11.9"
  }
 },
 "nbformat": 4,
 "nbformat_minor": 2
}
