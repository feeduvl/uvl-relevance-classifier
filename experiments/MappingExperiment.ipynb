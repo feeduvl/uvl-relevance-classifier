{
 "cells": [
  {
   "cell_type": "code",
   "execution_count": null,
   "metadata": {},
   "outputs": [],
   "source": [
    "from main.behavior.RelevanceClassifier import RelevanceClassifier\n",
    "\n",
    "import os\n",
    "print(os.getcwd())  # Prints the current working directory\n",
    "os.chdir('..') \n",
    "print(os.getcwd())\n",
    "\n",
    "relevanceClassifier = RelevanceClassifier()\n",
    "# mapRelevantSentences2WordBasedAnnotation(<Name of Word-based Annotation>, <Name of Sentence-based Annotation>)\n",
    "relevanceClassifier.mapRelevantSentences2WordBasedAnnotation(\"Komoot_AppReview\", \"RelevanceClassification_Komoot_AppReview\")\n",
    "relevanceClassifier.mapRelevantSentences2WordBasedAnnotation(\"Prolific_1_33_Complete\", \"RelevanceClassification_Prolific1-33\")\n",
    "relevanceClassifier.mapRelevantSentences2WordBasedAnnotation(\"Prolific_34_66_Complete\", \"RelevanceClassification_Prolific34-66\")\n",
    "relevanceClassifier.mapRelevantSentences2WordBasedAnnotation(\"Prolific_67_100_Complete\", \"RelevanceClassification_Prolific67-100\")"
   ]
  }
 ],
 "metadata": {
  "kernelspec": {
   "display_name": "ml",
   "language": "python",
   "name": "python3"
  },
  "language_info": {
   "codemirror_mode": {
    "name": "ipython",
    "version": 3
   },
   "file_extension": ".py",
   "mimetype": "text/x-python",
   "name": "python",
   "nbconvert_exporter": "python",
   "pygments_lexer": "ipython3",
   "version": "3.11.8"
  }
 },
 "nbformat": 4,
 "nbformat_minor": 2
}
