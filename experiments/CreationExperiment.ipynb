{
 "cells": [
  {
   "cell_type": "code",
   "execution_count": null,
   "metadata": {},
   "outputs": [],
   "source": [
    "from main.behavior.RelevanceClassifier import RelevanceClassifier\n",
    "\n",
    "import os\n",
    "print(os.getcwd())  # Prints the current working directory\n",
    "os.chdir('..') \n",
    "print(os.getcwd())\n",
    "\n",
    "content = {\n",
    "           \"dataset\": {\"uploaded_at\": \"0001-01-01T00:00:00Z\", \"name\": \"Komoot\", \"size\": 0, \"documents\": [\n",
    "               {\"number\": 0,\n",
    "                \"text\": \"4\\n###A little bit too much self promotion in the app and by email. Other than that its solid, works as expected. Havent planed a trip yet. End of trip process should be faster and easier. Also seems to forget what was the last trip type selected and reverts to gravel biking always. Lacking data sharing to Google Fit.\\n###\",\n",
    "                \"id\": \"Review_0_de.komoot.android_2023_07_20\"}, \n",
    "                {\"number\": 0,\n",
    "                    \"text\": \"2\\n###Have tried and tried with this, as a free version and even some paid map packs. As a mobile app it is inaccurate, un-intuitive and infuriatingly twitchy. (On a few devices).. As a desktop planner it works quite well and looks extremely promising but alas as an actual mobile application it does not stand up very well. Good for getting ideas and seeing what other people are doing but not for use on the road.\\n###\",\n",
    "                    \"id\": \"Review_1_de.komoot.android_2023_07_20\"},\n",
    "               {\"number\": 0,\n",
    "                \"text\": \"3\\n###The app is great for planning an A to B route. However it is a complete pain if you want to plan your own route using waypoints. There must be a way, but after four months I still have not found it. Grrrr .....\\n###\",\n",
    "                \"id\": \"Review_199_de.komoot.android_2023_07_20\"}], \n",
    "            \"ground_truth\": []},\n",
    "            \"params\": {\"method\": \"relevance-classifier\",\n",
    "                       \"new_annotation_name\":\"test_annotation\", \n",
    "                       \"new_dataset_name\":\"test_dataset\", \n",
    "                       \"relevance_classification_conf\":\"AnnotationAndDataset\"}\n",
    "}\n",
    "\n",
    "# OnlyAnnotation, OnlyDataset, AnnotationAndDataset\n",
    "\n",
    "\n",
    "relevanceClassifier = RelevanceClassifier()\n",
    "relevanceClassifier.startCreationPipeline(content)"
   ]
  }
 ],
 "metadata": {
  "kernelspec": {
   "display_name": "ml",
   "language": "python",
   "name": "python3"
  },
  "language_info": {
   "codemirror_mode": {
    "name": "ipython",
    "version": 3
   },
   "file_extension": ".py",
   "mimetype": "text/x-python",
   "name": "python",
   "nbconvert_exporter": "python",
   "pygments_lexer": "ipython3",
   "version": "3.11.8"
  }
 },
 "nbformat": 4,
 "nbformat_minor": 2
}
