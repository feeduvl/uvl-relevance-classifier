{
 "cells": [
  {
   "cell_type": "code",
   "execution_count": null,
   "metadata": {},
   "outputs": [],
   "source": [
    "%load_ext autoreload\n",
    "%autoreload 2"
   ]
  },
  {
   "cell_type": "code",
   "execution_count": null,
   "metadata": {},
   "outputs": [],
   "source": [
    "from main.tooling.Logger import logging_setup\n",
    "from copy import deepcopy\n",
    "\n",
    "logger = logging_setup(\"setupEvaluation\")"
   ]
  },
  {
   "cell_type": "code",
   "execution_count": null,
   "metadata": {},
   "outputs": [],
   "source": [
    "from main.structure.Factories.ConfigurationFactory import ConfigurationFactory\n",
    "\n",
    "configurationFactory = ConfigurationFactory()\n",
    "# TrainingAllDatasets / TrainingOnlyP2GoldenDataset / TrainingOnlyKomootDataset / TrainingKomootTestP2GoldenDatasets / TrainingP2GoldenTestKomootDatasets\n",
    "trainingAllConf = configurationFactory.__create__(\"TrainingAllDatasets\")\n",
    "trainingOnlyP2GoldenConf = configurationFactory.__create__(\"TrainingOnlyP2GoldenDataset\")\n",
    "trainingOnlyKomootConf = configurationFactory.__create__(\"TrainingOnlyKomootDataset\")\n",
    "trainingKomootTestP2GoldenConf = configurationFactory.__create__(\"TrainingKomootTestP2GoldenDatasets\")\n",
    "trainingP2GoldenTestKomootConf = configurationFactory.__create__(\"TrainingP2GoldenTestKomootDatasets\")\n",
    "logger.info(\"Configuration %s\", trainingAllConf)"
   ]
  },
  {
   "cell_type": "markdown",
   "metadata": {},
   "source": [
    "## Setup MLflow Experiment if not existing"
   ]
  },
  {
   "cell_type": "code",
   "execution_count": null,
   "metadata": {},
   "outputs": [],
   "source": [
    "import mlflow\n",
    "\n",
    "if mlflow.get_experiment_by_name(trainingAllConf.project.experiment_name) is None:\n",
    "        mlflow.create_experiment(trainingAllConf.project.experiment_name)"
   ]
  },
  {
   "cell_type": "markdown",
   "metadata": {},
   "source": [
    "## Training with all datasets (P2-Golden + Komoot)"
   ]
  },
  {
   "cell_type": "code",
   "execution_count": null,
   "metadata": {},
   "outputs": [],
   "source": [
    "from main.behavior.RelevanceClassifier import RelevanceClassifier\n",
    "from main.tooling.MLflowHandler import config_mlflow\n",
    "\n",
    "allConf = deepcopy(trainingAllConf)\n",
    "allConf.project.run_name = 'AllDatasets'\n",
    "allConf.project.model_name = 'model'\n",
    "allConf.modelArgs.num_train_epochs = 7\n",
    "\n",
    "with config_mlflow(allConf) as current_run:\n",
    "    logger.info(\"Starting TrainingPipeline\")\n",
    "    relevanceClassifier = RelevanceClassifier()\n",
    "    relevanceClassifier.startTrainingPipeline(allConf)"
   ]
  },
  {
   "cell_type": "markdown",
   "metadata": {},
   "source": [
    "## Training only P2-Golden dataset"
   ]
  },
  {
   "cell_type": "code",
   "execution_count": null,
   "metadata": {},
   "outputs": [],
   "source": [
    "p2GoldenConf = deepcopy(trainingOnlyP2GoldenConf)\n",
    "p2GoldenConf.project.run_name = 'OnlyP2Golden'\n",
    "p2GoldenConf.project.model_name = 'model'\n",
    "p2GoldenConf.modelArgs.num_train_epochs = 7\n",
    "\n",
    "with config_mlflow(p2GoldenConf) as current_run:\n",
    "    logger.info(\"Starting TrainingPipeline\")\n",
    "    relevanceClassifier = RelevanceClassifier()\n",
    "    relevanceClassifier.startTrainingPipeline(p2GoldenConf)"
   ]
  },
  {
   "cell_type": "markdown",
   "metadata": {},
   "source": [
    "## Training only Komoot dataset"
   ]
  },
  {
   "cell_type": "code",
   "execution_count": null,
   "metadata": {},
   "outputs": [],
   "source": [
    "komootConf = deepcopy(trainingOnlyKomootConf)\n",
    "komootConf.project.run_name = 'OnlyKomoot'\n",
    "komootConf.project.model_name = 'model'\n",
    "komootConf.modelArgs.num_train_epochs = 7\n",
    "\n",
    "with config_mlflow(komootConf) as current_run:\n",
    "    logger.info(\"Starting TrainingPipeline\")\n",
    "    relevanceClassifier = RelevanceClassifier()\n",
    "    relevanceClassifier.startTrainingPipeline(komootConf)"
   ]
  },
  {
   "cell_type": "markdown",
   "metadata": {},
   "source": [
    "## Training with Komoot dataset and Testing with P2-Golden dataset"
   ]
  },
  {
   "cell_type": "code",
   "execution_count": null,
   "metadata": {},
   "outputs": [],
   "source": [
    "komootP2GoldenConf = deepcopy(trainingKomootTestP2GoldenConf)\n",
    "komootP2GoldenConf.project.run_name = 'TrainingKomootTestP2Golden'\n",
    "komootP2GoldenConf.project.model_name = 'model'\n",
    "komootP2GoldenConf.modelArgs.num_train_epochs = 7\n",
    "\n",
    "with config_mlflow(komootP2GoldenConf) as current_run:\n",
    "    logger.info(\"Starting TrainingPipeline\")\n",
    "    relevanceClassifier = RelevanceClassifier()\n",
    "    relevanceClassifier.startTrainingPipeline(komootP2GoldenConf)"
   ]
  },
  {
   "cell_type": "markdown",
   "metadata": {},
   "source": [
    "## Training with P2-Golden dataset and Testing with Komoot dataset"
   ]
  },
  {
   "cell_type": "code",
   "execution_count": null,
   "metadata": {},
   "outputs": [],
   "source": [
    "p2GoldenKomootConf = deepcopy(trainingP2GoldenTestKomootConf)\n",
    "p2GoldenKomootConf.project.run_name = 'TrainingP2GoldenTestKomoot'\n",
    "p2GoldenKomootConf.project.model_name = 'model'\n",
    "p2GoldenKomootConf.modelArgs.num_train_epochs = 7\n",
    "\n",
    "with config_mlflow(p2GoldenKomootConf) as current_run:\n",
    "    logger.info(\"Starting TrainingPipeline\")\n",
    "    relevanceClassifier = RelevanceClassifier()\n",
    "    relevanceClassifier.startTrainingPipeline(p2GoldenKomootConf)"
   ]
  }
 ],
 "metadata": {
  "kernelspec": {
   "display_name": "mlprod1",
   "language": "python",
   "name": "python3"
  },
  "language_info": {
   "codemirror_mode": {
    "name": "ipython",
    "version": 3
   },
   "file_extension": ".py",
   "mimetype": "text/x-python",
   "name": "python",
   "nbconvert_exporter": "python",
   "pygments_lexer": "ipython3",
   "version": "3.11.9"
  }
 },
 "nbformat": 4,
 "nbformat_minor": 2
}
