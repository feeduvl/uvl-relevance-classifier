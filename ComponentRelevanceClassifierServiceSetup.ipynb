{
 "cells": [
  {
   "cell_type": "code",
   "execution_count": null,
   "metadata": {},
   "outputs": [],
   "source": [
    "%load_ext autoreload\n",
    "%autoreload 2"
   ]
  },
  {
   "cell_type": "code",
   "execution_count": null,
   "metadata": {},
   "outputs": [],
   "source": [
    "from main.tooling.Logger import logging_setup\n",
    "\n",
    "logger = logging_setup(\"setup\")"
   ]
  },
  {
   "cell_type": "markdown",
   "metadata": {},
   "source": [
    "## Check MLflow Connection"
   ]
  },
  {
   "cell_type": "code",
   "execution_count": null,
   "metadata": {},
   "outputs": [],
   "source": [
    "import mlflow\n",
    "import os\n",
    "if not os.getenv(\"MLFLOW_TRACKING_URI\"):\n",
    "   raise Exception(\"Mlflow not configured\")\n",
    "\n",
    "import requests\n",
    "try:\n",
    "    requests.get(str(mlflow.get_tracking_uri()))\n",
    "except requests.exceptions.ConnectionError:\n",
    "    raise ConnectionError(f\"mlflow not reachable, please run mlflow server\")\n",
    "\n",
    "logger.info(\"mlflow availiable at %s\", mlflow.get_tracking_uri())\n"
   ]
  },
  {
   "cell_type": "markdown",
   "metadata": {},
   "source": [
    "## Configurate Experiment Parameters"
   ]
  },
  {
   "cell_type": "code",
   "execution_count": null,
   "metadata": {},
   "outputs": [],
   "source": [
    "experimentName = \"RelevanceClassifier\"\n",
    "runName = \"AllDatasets\"\n",
    "modelName = \"Iteration_1_model\""
   ]
  },
  {
   "cell_type": "markdown",
   "metadata": {},
   "source": [
    "## Check existing MLflow runs"
   ]
  },
  {
   "cell_type": "code",
   "execution_count": null,
   "metadata": {},
   "outputs": [],
   "source": [
    "from mlflow.entities import ViewType\n",
    "\n",
    "if mlflow.get_experiment_by_name(experimentName) is None:\n",
    "        mlflow.create_experiment(experimentName)\n",
    "\n",
    "mlflow_runs = mlflow.search_runs(\n",
    "        experiment_names=[experimentName],\n",
    "        filter_string=f\"attributes.status = 'FINISHED' AND params.project.run_name = '{runName}'\",                \n",
    "        max_results=1,\n",
    "        run_view_type=ViewType.ACTIVE_ONLY,\n",
    "        order_by=[\"metrics.accuracy DESC\"],        \n",
    "\n",
    ")\n",
    "\n",
    "logger.info(\"mlflow run found: %s\", not mlflow_runs.empty)\n"
   ]
  },
  {
   "cell_type": "markdown",
   "metadata": {},
   "source": [
    "## Model Loading via REST request to the remote MLflow server"
   ]
  },
  {
   "cell_type": "markdown",
   "metadata": {},
   "source": [
    "#### There are problems with downloading the fine-tuned model from the remote MLflow server. When downloading the model via the normal way (see \"## Model Loading via mlflow.download_artifacts() (the normal way)\" code cell), only a certain part of the model is downloaded (in our case it was &sim;130MB out of 438MB). Therefor, we have to download the model via a HTTP request to the remote MLflow server artifacts!"
   ]
  },
  {
   "cell_type": "code",
   "execution_count": null,
   "metadata": {},
   "outputs": [],
   "source": [
    "import requests\n",
    "from pathlib import Path\n",
    "from main.tooling.FileManager import getModelPath\n",
    "from main.tooling.FileManager import cleanup\n",
    "\n",
    "cleanup()\n",
    "\n",
    "runID = mlflow_runs.iloc[0].run_id\n",
    "\n",
    "def downloadMLflowArtifacts(mlflowURLS: list[str], artifactNames: list[str]) -> None:\n",
    "    \"\"\"\n",
    "        Description:\n",
    "            This method requests artifacts from the remote MLflow server and saves them in the getModelPath(f'{modelName}') directory.\n",
    "        Args:\n",
    "            list[str]: The urls' to request\n",
    "            list[str]: The artifact names for the urls\n",
    "        Returns:\n",
    "            None: Saves the artifacts from the remote MLflow server in the getModelPath(f'{modelName}') directory\n",
    "    \"\"\"\n",
    "    \n",
    "    for idx, mlflowURL in enumerate(mlflowURLS):\n",
    "        \n",
    "        if not Path(getModelPath(f'{modelName}')).exists():\n",
    "            Path(getModelPath(f'{modelName}')).mkdir()\n",
    "        \n",
    "        save_path = os.path.join(getModelPath(f'{modelName}'), artifactNames[idx])\n",
    "            \n",
    "        response = requests.get(mlflowURL, auth=(os.getenv('MLFLOW_TRACKING_USERNAME'), os.getenv('MLFLOW_TRACKING_PASSWORD')))\n",
    "        response.raise_for_status()\n",
    "        \n",
    "        with open(save_path, 'wb') as file:\n",
    "            file.write(response.content)\n",
    "\n",
    "        logger.info(f\"Downloaded {artifactNames[idx]} to {save_path}\")\n",
    "\n",
    "artifactNames = [\n",
    "    \"config.json\",\n",
    "    \"special_tokens_map.json\",\n",
    "    \"tokenizer_config.json\",\n",
    "    \"training_args.bin\",\n",
    "    \"vocab.txt\",\n",
    "    \"model.safetensors\"\n",
    "]\n",
    "\n",
    "mlflowURLS = [\n",
    "    f\"{os.getenv('MLFLOW_TRACKING_URI')}/get-artifact?path={modelName}/{artifactNames[0]}&run_uuid={runID}\",\n",
    "    f\"{os.getenv('MLFLOW_TRACKING_URI')}/get-artifact?path={modelName}/{artifactNames[1]}&run_uuid={runID}\",\n",
    "    f\"{os.getenv('MLFLOW_TRACKING_URI')}/get-artifact?path={modelName}/{artifactNames[2]}&run_uuid={runID}\",\n",
    "    f\"{os.getenv('MLFLOW_TRACKING_URI')}/get-artifact?path={modelName}/{artifactNames[3]}&run_uuid={runID}\",\n",
    "    f\"{os.getenv('MLFLOW_TRACKING_URI')}/get-artifact?path={modelName}/{artifactNames[4]}&run_uuid={runID}\",\n",
    "    f\"{os.getenv('MLFLOW_TRACKING_URI')}/get-artifact?path={modelName}/{artifactNames[5]}&run_uuid={runID}\"\n",
    "]\n",
    "\n",
    "downloadMLflowArtifacts(mlflowURLS, artifactNames)\n"
   ]
  },
  {
   "cell_type": "markdown",
   "metadata": {},
   "source": [
    "## Model Loading via mlflow.download_artifacts() (the normal way)"
   ]
  },
  {
   "cell_type": "code",
   "execution_count": null,
   "metadata": {},
   "outputs": [],
   "source": [
    "# from main.tooling.FileManager import getModelPath\n",
    "# from main.tooling.FileManager import cleanup\n",
    "\n",
    "# cleanup()\n",
    "\n",
    "# if not mlflow_runs.empty:\n",
    "    # Extract run ID\n",
    "#     default_run_id = mlflow_runs.iloc[0]['run_id']\n",
    "    \n",
    "    # Load run with the run ID\n",
    "#     default_run = mlflow.get_run(default_run_id)\n",
    "    \n",
    "#     logger.info(\"Download Model from mlflow to: %s\", getModelPath(\"\"))    \n",
    "\n",
    "#     mlflow.artifacts.download_artifacts(artifact_uri=\n",
    "#         f\"{default_run.info.artifact_uri}/{modelName}\",\n",
    "#         dst_path=getModelPath(\"\"),\n",
    "# )\n",
    "\n",
    "# else:\n",
    "#     logger.info(\"The requested model does not exist!\")\n"
   ]
  }
 ],
 "metadata": {
  "kernelspec": {
   "display_name": "ml",
   "language": "python",
   "name": "python3"
  },
  "language_info": {
   "codemirror_mode": {
    "name": "ipython",
    "version": 3
   },
   "file_extension": ".py",
   "mimetype": "text/x-python",
   "name": "python",
   "nbconvert_exporter": "python",
   "pygments_lexer": "ipython3",
   "version": "3.11.9"
  }
 },
 "nbformat": 4,
 "nbformat_minor": 2
}
