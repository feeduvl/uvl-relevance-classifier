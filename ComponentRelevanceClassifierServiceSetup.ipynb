{
 "cells": [
  {
   "cell_type": "code",
   "execution_count": null,
   "metadata": {},
   "outputs": [],
   "source": [
    "%load_ext autoreload\n",
    "%autoreload 2"
   ]
  },
  {
   "cell_type": "code",
   "execution_count": null,
   "metadata": {},
   "outputs": [],
   "source": [
    "from main.tooling.Logger import logging_setup\n",
    "\n",
    "logger = logging_setup(\"training\")"
   ]
  },
  {
   "cell_type": "markdown",
   "metadata": {},
   "source": [
    "## Check MLflow Connection"
   ]
  },
  {
   "cell_type": "code",
   "execution_count": null,
   "metadata": {},
   "outputs": [],
   "source": [
    "import mlflow\n",
    "import os\n",
    "if not os.getenv(\"MLFLOW_TRACKING_URI\"):\n",
    "   raise Exception(\"Mlflow not configured\")\n",
    "\n",
    "import requests\n",
    "try:\n",
    "    requests.get(str(mlflow.get_tracking_uri()))\n",
    "except requests.exceptions.ConnectionError:\n",
    "    raise ConnectionError(f\"mlflow not reachable, please run mlflow server\")\n",
    "\n",
    "logger.info(\"mlflow availiable at %s\", mlflow.get_tracking_uri())\n"
   ]
  },
  {
   "cell_type": "markdown",
   "metadata": {},
   "source": [
    "## Configurate Experiment Parameters"
   ]
  },
  {
   "cell_type": "code",
   "execution_count": null,
   "metadata": {},
   "outputs": [],
   "source": [
    "experimentName = \"RelevanceClassifier\"\n",
    "runName = \"AllDatasets\"\n",
    "modelName = \"Iteration_1_model\""
   ]
  },
  {
   "cell_type": "markdown",
   "metadata": {},
   "source": [
    "## Check existing MLflow runs"
   ]
  },
  {
   "cell_type": "code",
   "execution_count": null,
   "metadata": {},
   "outputs": [],
   "source": [
    "from mlflow.entities import ViewType\n",
    "\n",
    "if mlflow.get_experiment_by_name(experimentName) is None:\n",
    "        mlflow.create_experiment(experimentName)\n",
    "\n",
    "mlflow_runs = mlflow.search_runs(\n",
    "        experiment_names=[experimentName],\n",
    "        filter_string=f\"attributes.status = 'FINISHED' AND params.project.run_name = '{runName}'\",                \n",
    "        max_results=1,\n",
    "        run_view_type=ViewType.ACTIVE_ONLY,\n",
    "        order_by=[\"metrics.accuracy DESC\"],        \n",
    "\n",
    ")\n",
    "\n",
    "logger.info(\"mlflow best_run found: %s\", not mlflow_runs.empty)\n"
   ]
  },
  {
   "cell_type": "markdown",
   "metadata": {},
   "source": [
    "## Model Loading"
   ]
  },
  {
   "cell_type": "code",
   "execution_count": null,
   "metadata": {},
   "outputs": [],
   "source": [
    "from main.tooling.FileManager import getModelPath\n",
    "from main.tooling.FileManager import cleanup\n",
    "\n",
    "cleanup()\n",
    "\n",
    "if not mlflow_runs.empty:\n",
    "    # Extract run ID\n",
    "    default_run_id = mlflow_runs.iloc[0]['run_id']\n",
    "    \n",
    "    # Load run with the run ID\n",
    "    default_run = mlflow.get_run(default_run_id)\n",
    "    \n",
    "    logger.info(\"Download Model from mlflow to: %s\", getModelPath(\"\"))    \n",
    "\n",
    "    mlflow.artifacts.download_artifacts(artifact_uri=\n",
    "        f\"{default_run.info.artifact_uri}/{modelName}\",\n",
    "        dst_path=getModelPath(\"\"),\n",
    ")\n",
    "\n",
    "else:\n",
    "    logger.info(\"The requested model does not exist!\")\n"
   ]
  }
 ],
 "metadata": {
  "kernelspec": {
   "display_name": "ml",
   "language": "python",
   "name": "python3"
  },
  "language_info": {
   "codemirror_mode": {
    "name": "ipython",
    "version": 3
   },
   "file_extension": ".py",
   "mimetype": "text/x-python",
   "name": "python",
   "nbconvert_exporter": "python",
   "pygments_lexer": "ipython3",
   "version": "3.11.9"
  }
 },
 "nbformat": 4,
 "nbformat_minor": 2
}
